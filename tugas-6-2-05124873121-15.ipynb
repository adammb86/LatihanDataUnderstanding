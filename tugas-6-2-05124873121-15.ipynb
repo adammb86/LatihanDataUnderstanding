{
 "cells": [
  {
   "cell_type": "markdown",
   "id": "7a6421e5",
   "metadata": {},
   "source": [
    "# Tugas Harian AI KOMINFO Sesi 5\n",
    "\n",
    "Nama: Adam Mukharil Bachtiar\n",
    "Kelas: ITB05"
   ]
  },
  {
   "cell_type": "markdown",
   "id": "f04cb7c0",
   "metadata": {},
   "source": [
    "# Tugas 1\n",
    "\n",
    "Anda diminta untuk melakukan pengambilan data pada kaggle dengan cara menggunakan tahapan-tahapan yang sudah ada di slide. Anda hanya perlu melakukan download 2 dataset bebas menggunakan tahapan-tahapan tersebut. Screenshot terminal (termasuk kaggle.json) dan list isi folder data dimasukkan ke dalam dokumen yang dikumpulkan.\n",
    "https://www.kaggle.com/docs/api\n",
    "\n",
    "Filename pengumpulan : tugas-6-1-<id-peserta>.docx\n",
    "\n",
    "Pastikan filename yang dikumpulkan sesuai dengan format untuk mempermudah admin mengelola jawaban anda. "
   ]
  },
  {
   "cell_type": "markdown",
   "id": "50d8b011",
   "metadata": {},
   "source": [
    "# Jawaban Tugas 1\n"
   ]
  },
  {
   "cell_type": "markdown",
   "id": "84feaf23",
   "metadata": {},
   "source": [
    "## Data Olympic\n",
    "\n",
    "Untuk data pertama, saya mengambil data perihal \"120 years of Olympic history: athletes and results\". Tapi sebelum itu, saya sertakan screenshot bukti kaggle.json yang sudah di-copy ke dalam folder .kaggle pada gambar berikut:\n",
    "\n",
    "![Bukti Kaggle di .kaggle](https://drive.google.com/uc?export=view&id=1r3hMZ3V7JhRKPtNWJamSiEOCfizbtC9b)\n",
    "\n",
    "![Isi kaggle](https://drive.google.com/uc?export=view&id=1dz3avrx3wefrEofXD2P3WvG1-2zeGfy4)"
   ]
  },
  {
   "cell_type": "code",
   "execution_count": 14,
   "id": "9489df67",
   "metadata": {},
   "outputs": [
    {
     "name": "stdout",
     "output_type": "stream",
     "text": [
      "Warning: Your Kaggle API key is readable by other users on this system! To fix this, you can run 'chmod 600 /Users/adambachtiar/.kaggle/kaggle.json'\n",
      "ref                                                           title                                                size  lastUpdated          downloadCount  voteCount  usabilityRating  \n",
      "------------------------------------------------------------  --------------------------------------------------  -----  -------------------  -------------  ---------  ---------------  \n",
      "heesoo37/120-years-of-olympic-history-athletes-and-results    120 years of Olympic history: athletes and results    5MB  2018-06-15 06:10:41          73738       1486  0.8235294        \n",
      "jayrav13/olympic-track-field-results                          Olympic Track & Field Results                        80KB  2017-05-26 02:42:35           2766         48  0.7647059        \n",
      "divyansh22/summer-olympics-medals                             Summer Olympics Medals (1976-2008)                  219KB  2020-02-03 08:42:41           4466         94  0.9411765        \n",
      "the-guardian/olympic-games                                    Olympic Sports and Medals, 1896-2014                483KB  2017-01-24 15:05:37          19416        172  0.7058824        \n",
      "stefanzivanov/olympic-games-2021-medals                       Olympic Games 2021 Medals                             2KB  2021-08-08 18:36:05            589         27  1.0              \n",
      "berkayalan/2021-olympics-medals-in-tokyo                      Tokyo 2020 Olympics Medals                            1KB  2021-08-09 19:36:13            878         31  1.0              \n",
      "rio2016/olympic-games                                         2016 Olympics in Rio de Janeiro                     286KB  2017-01-09 19:35:12           8221         93  0.7058824        \n",
      "arjunprasadsarkhel/2021-olympics-in-tokyo                     2021 Olympics in Tokyo                              347KB  2021-08-04 18:02:56           2215         66  0.8235294        \n",
      "mysarahmadbhat/120-years-of-olympic-history                   120 Years of Olympic History                          5MB  2021-08-09 02:26:36            515         34  1.0              \n",
      "samruddhim/olympics-althlete-events-analysis                  Olympics Althlete Events Analysis                     5MB  2020-09-12 07:14:20            468         24  1.0              \n",
      "piterfm/olympic-results-biathlon                              Olympic Results Biathlon                              5KB  2018-09-17 10:39:56            271          5  1.0              \n",
      "gpreda/tokyo-olympics-2020-tweets                             Tokyo Olympics 2020 Tweets                           25MB  2021-07-28 18:22:30            212         12  1.0              \n",
      "rushikeshlavate/olympic-games-medal-datasetfrom-1896-to-2018  Olympic Games medal Dataset(from 1896 to 2018)        4KB  2021-01-03 05:56:23            664         22  0.7647059        \n",
      "brendan45774/summer-olympics-medalist-dataset                 Summer Olympics Medalist                              1MB  2021-05-29 19:59:38            150         19  0.8235294        \n",
      "mathurinache/women-in-the-olympic-games                       Women in the Olympic Games                          113KB  2021-03-14 21:02:10            100          9  1.0              \n",
      "martj42/international-football-results-from-1872-to-2017      International football results from 1872 to 2021    550KB  2021-08-07 14:41:33          43463       1296  1.0              \n",
      "mpwolke/cusersmarilonedriverea-de-trabalhomedalcsv            Olympic Medal Rewards                                513B  2021-07-28 13:33:43             13          2  1.0              \n",
      "piterfm/olympic-games-medals-19862018                         Olympic Games, 1986-2018                             10MB  2021-08-04 21:02:38             91          2  1.0              \n",
      "mathurinache/cross-country-skiing-at-the-winter-olympics      Cross-country_skiing_at_the_Winter_Olympics           2KB  2020-09-06 15:07:08             38         10  0.9411765        \n",
      "piterfm/olympic-games-hosts                                   Olympic Games Hosts                                   3KB  2020-04-24 20:46:29             88          1  1.0              \n"
     ]
    }
   ],
   "source": [
    "!kaggle datasets list -s \"Olympic\""
   ]
  },
  {
   "cell_type": "markdown",
   "id": "eee2f5f6",
   "metadata": {},
   "source": [
    "Setelah menampilkan data pada kaggle perihal ''Olympic\", sekarang pilih data \"120 years of Olympic history: athletes and results\" dengan menjalankan kode program berikut:"
   ]
  },
  {
   "cell_type": "code",
   "execution_count": 15,
   "id": "9b5139aa",
   "metadata": {},
   "outputs": [
    {
     "name": "stdout",
     "output_type": "stream",
     "text": [
      "Warning: Your Kaggle API key is readable by other users on this system! To fix this, you can run 'chmod 600 /Users/adambachtiar/.kaggle/kaggle.json'\n",
      "120-years-of-olympic-history-athletes-and-results.zip: Skipping, found more recently modified local copy (use --force to force download)\n"
     ]
    }
   ],
   "source": [
    "!kaggle datasets download heesoo37/120-years-of-olympic-history-athletes-and-results"
   ]
  },
  {
   "cell_type": "markdown",
   "id": "bb44fca3",
   "metadata": {},
   "source": [
    "Data uang diunduh masih berupa data zip. Langkah berikutnya adalah unzip data tersebut agar bisa diakses:"
   ]
  },
  {
   "cell_type": "code",
   "execution_count": null,
   "id": "a3ca2b81",
   "metadata": {},
   "outputs": [],
   "source": [
    "!unzip 120-years-of-olympic-history-athletes-and-results.zip"
   ]
  },
  {
   "cell_type": "code",
   "execution_count": 1,
   "id": "5594555b",
   "metadata": {},
   "outputs": [
    {
     "name": "stdout",
     "output_type": "stream",
     "text": [
      "['noc_regions.csv', '.DS_Store', 'dataset-data-understanding-tugas-2', 'kaggle.json', 'athlete_events.csv', 'Deskripsi-tugas-1-2-data-understanding.txt', '.ipynb_checkpoints', '120-years-of-olympic-history-athletes-and-results.zip', 'Tugas Harian AI KOMINFO Sesi 5.ipynb']\n"
     ]
    }
   ],
   "source": [
    "import os\n",
    "\n",
    "print(os.listdir('/Users/adambachtiar/Documents/TugasHarian5/'))"
   ]
  },
  {
   "cell_type": "code",
   "execution_count": 5,
   "id": "d13c95fd",
   "metadata": {
    "scrolled": true
   },
   "outputs": [
    {
     "name": "stdout",
     "output_type": "stream",
     "text": [
      "            ID                      Name Sex   Age  Height  Weight  \\\n",
      "0            1                 A Dijiang   M  24.0   180.0    80.0   \n",
      "1            2                  A Lamusi   M  23.0   170.0    60.0   \n",
      "2            3       Gunnar Nielsen Aaby   M  24.0     NaN     NaN   \n",
      "3            4      Edgar Lindenau Aabye   M  34.0     NaN     NaN   \n",
      "4            5  Christine Jacoba Aaftink   F  21.0   185.0    82.0   \n",
      "...        ...                       ...  ..   ...     ...     ...   \n",
      "271111  135569                Andrzej ya   M  29.0   179.0    89.0   \n",
      "271112  135570                  Piotr ya   M  27.0   176.0    59.0   \n",
      "271113  135570                  Piotr ya   M  27.0   176.0    59.0   \n",
      "271114  135571        Tomasz Ireneusz ya   M  30.0   185.0    96.0   \n",
      "271115  135571        Tomasz Ireneusz ya   M  34.0   185.0    96.0   \n",
      "\n",
      "                  Team  NOC        Games  Year  Season            City  \\\n",
      "0                China  CHN  1992 Summer  1992  Summer       Barcelona   \n",
      "1                China  CHN  2012 Summer  2012  Summer          London   \n",
      "2              Denmark  DEN  1920 Summer  1920  Summer       Antwerpen   \n",
      "3       Denmark/Sweden  DEN  1900 Summer  1900  Summer           Paris   \n",
      "4          Netherlands  NED  1988 Winter  1988  Winter         Calgary   \n",
      "...                ...  ...          ...   ...     ...             ...   \n",
      "271111        Poland-1  POL  1976 Winter  1976  Winter       Innsbruck   \n",
      "271112          Poland  POL  2014 Winter  2014  Winter           Sochi   \n",
      "271113          Poland  POL  2014 Winter  2014  Winter           Sochi   \n",
      "271114          Poland  POL  1998 Winter  1998  Winter          Nagano   \n",
      "271115          Poland  POL  2002 Winter  2002  Winter  Salt Lake City   \n",
      "\n",
      "                Sport                                     Event Medal  \n",
      "0          Basketball               Basketball Men's Basketball   NaN  \n",
      "1                Judo              Judo Men's Extra-Lightweight   NaN  \n",
      "2            Football                   Football Men's Football   NaN  \n",
      "3          Tug-Of-War               Tug-Of-War Men's Tug-Of-War  Gold  \n",
      "4       Speed Skating          Speed Skating Women's 500 metres   NaN  \n",
      "...               ...                                       ...   ...  \n",
      "271111           Luge                Luge Mixed (Men)'s Doubles   NaN  \n",
      "271112    Ski Jumping  Ski Jumping Men's Large Hill, Individual   NaN  \n",
      "271113    Ski Jumping        Ski Jumping Men's Large Hill, Team   NaN  \n",
      "271114      Bobsleigh                      Bobsleigh Men's Four   NaN  \n",
      "271115      Bobsleigh                      Bobsleigh Men's Four   NaN  \n",
      "\n",
      "[271116 rows x 15 columns]\n"
     ]
    }
   ],
   "source": [
    "import pandas as pd\n",
    "\n",
    "path = 'athlete_events.csv'\n",
    "athlete_events = pd.read_csv(path)\n",
    "\n",
    "print(athlete_events)"
   ]
  },
  {
   "cell_type": "code",
   "execution_count": 4,
   "id": "abcb8693",
   "metadata": {},
   "outputs": [
    {
     "name": "stdout",
     "output_type": "stream",
     "text": [
      "     NOC       region                 notes\n",
      "0    AFG  Afghanistan                   NaN\n",
      "1    AHO      Curacao  Netherlands Antilles\n",
      "2    ALB      Albania                   NaN\n",
      "3    ALG      Algeria                   NaN\n",
      "4    AND      Andorra                   NaN\n",
      "..   ...          ...                   ...\n",
      "225  YEM        Yemen                   NaN\n",
      "226  YMD        Yemen           South Yemen\n",
      "227  YUG       Serbia            Yugoslavia\n",
      "228  ZAM       Zambia                   NaN\n",
      "229  ZIM     Zimbabwe                   NaN\n",
      "\n",
      "[230 rows x 3 columns]\n"
     ]
    }
   ],
   "source": [
    "path = 'noc_regions.csv'\n",
    "noc_region = pd.read_csv(path)\n",
    "\n",
    "print(noc_region)"
   ]
  },
  {
   "cell_type": "markdown",
   "id": "782faa52",
   "metadata": {},
   "source": [
    "## Data Harry Potter\n",
    "\n",
    "Selanjutnya adalah data harry tentang Harry Potter."
   ]
  },
  {
   "cell_type": "code",
   "execution_count": 6,
   "id": "addcaa35",
   "metadata": {},
   "outputs": [
    {
     "name": "stdout",
     "output_type": "stream",
     "text": [
      "Warning: Your Kaggle API key is readable by other users on this system! To fix this, you can run 'chmod 600 /Users/adambachtiar/.kaggle/kaggle.json'\n",
      "ref                                                     title                                             size  lastUpdated          downloadCount  voteCount  usabilityRating  \n",
      "------------------------------------------------------  -----------------------------------------------  -----  -------------------  -------------  ---------  ---------------  \n",
      "gulsahdemiryurek/harry-potter-dataset                   Harry Potter Dataset                              95KB  2021-05-14 21:30:31           3593         52  0.47058824       \n",
      "juliasays/harry-potter-spells                           Harry Potter Spells                               766B  2020-06-22 13:36:53            135         16  0.7647059        \n",
      "nehatiwari03/harry-potter-fanfiction-data               Harry Potter fanfiction data                      86MB  2020-01-25 01:37:25            199         11  0.9411765        \n",
      "eward96/harry-potter-and-the-philosophers-stone-script  Harry Potter and the Philosopher's Stone script   25KB  2020-06-17 12:04:00            242         14  0.88235295       \n",
      "ihelon/lego-minifigures-classification                  LEGO Minifigures                                  27MB  2021-07-15 19:14:08           2885        208  0.9411765        \n",
      "kornflex/harry-potter-movies-dataset                    Harry Potter Movies Dataset                      227KB  2021-08-15 01:33:29            121          4  0.9411765        \n",
      "santiviquez/hp1txt                                      Harry Potter Book 1                              162KB  2020-05-04 20:30:33            125          6  0.375            \n",
      "gantlaborde/riddikulus                                  Riddikulus - Hogwarts Houses                     101MB  2021-01-07 14:30:54             26         22  0.75             \n",
      "eward96/harry-potter-and-the-chamber-of-secrets-script  Harry Potter and the Chamber of Secrets script    29KB  2020-06-21 11:57:19             61          7  0.7647059        \n",
      "zez000/characters-in-harry-potter-books                 Characters in Harry Potter Books                 321KB  2020-11-20 14:53:46             59          4  0.5294118        \n",
      "muhammadmdurrani/severus-snape                          Severus Snape                                     64MB  2020-12-16 20:55:20              6          4  0.875            \n",
      "mchavoshi/harry-potter-book1-farsi                      harry_potter_book1_farsi                         225KB  2019-09-25 08:24:51             41          3  0.8125           \n"
     ]
    }
   ],
   "source": [
    "!kaggle datasets list -s \"Harry Potter\""
   ]
  },
  {
   "cell_type": "markdown",
   "id": "c45dedf5",
   "metadata": {},
   "source": [
    "Yang diunduh adalah dataset tentang mantra di Harry Potter. Berikut prosesnya:"
   ]
  },
  {
   "cell_type": "code",
   "execution_count": 7,
   "id": "e25a1525",
   "metadata": {},
   "outputs": [
    {
     "name": "stdout",
     "output_type": "stream",
     "text": [
      "Warning: Your Kaggle API key is readable by other users on this system! To fix this, you can run 'chmod 600 /Users/adambachtiar/.kaggle/kaggle.json'\n",
      "Downloading harry-potter-spells.zip to /Users/adambachtiar/Documents/TugasHarian5\n",
      "  0%|                                                 | 0.00/766 [00:00<?, ?B/s]\n",
      "100%|███████████████████████████████████████████| 766/766 [00:00<00:00, 723kB/s]\n"
     ]
    }
   ],
   "source": [
    "!kaggle datasets download juliasays/harry-potter-spells"
   ]
  },
  {
   "cell_type": "code",
   "execution_count": 8,
   "id": "11d7da42",
   "metadata": {},
   "outputs": [
    {
     "name": "stdout",
     "output_type": "stream",
     "text": [
      "Archive:  harry-potter-spells.zip\r\n",
      "  inflating: Harry Potter Spells.csv  \r\n"
     ]
    }
   ],
   "source": [
    "!unzip harry-potter-spells.zip"
   ]
  },
  {
   "cell_type": "code",
   "execution_count": 15,
   "id": "bef34b25",
   "metadata": {},
   "outputs": [
    {
     "name": "stdout",
     "output_type": "stream",
     "text": [
      "   Number   Name of the spell  \\\n",
      "0       1    Expecto Patronum   \n",
      "1       2               Accio   \n",
      "2       3  Wingardium Leviosa   \n",
      "3       4        Expelliarmus   \n",
      "4       5               Lumos   \n",
      "5       6           Alohomora   \n",
      "6       7       Avada Kedavra   \n",
      "7       8        Sectumsempra   \n",
      "8       9           Obliviate   \n",
      "9      10          Riddikulus   \n",
      "\n",
      "                                        What is does  Complexity  \n",
      "0  Gets rid of pesky Dementors by summoning a bad...           5  \n",
      "1  The perfect charm for lazy people who can't be...           3  \n",
      "2                 Makes things levitate. Sounds fun.           1  \n",
      "3  Basically the only spell Harry ever uses when ...           4  \n",
      "4  The spell equivalent of that little torch app ...           3  \n",
      "5  That one Hermione keeps using to unlock doors ...           1  \n",
      "6                    We all know what this one does.           7  \n",
      "7  A mouthful of a curse invented by troubled tee...           6  \n",
      "8  The charm Gilderoy Lockhart uses to accidental...           7  \n",
      "9  Transforms nasty Boggarts from something scary...           3  \n"
     ]
    }
   ],
   "source": [
    "import pandas as pd\n",
    "\n",
    "path = 'Harry Potter Spells.csv'\n",
    "spells = pd.read_csv(path,sep = ';')\n",
    "\n",
    "print(spells)"
   ]
  },
  {
   "cell_type": "markdown",
   "id": "b566d4dc",
   "metadata": {},
   "source": [
    "# Tugas 2\n",
    "\n",
    "Sumber data: https://github.com/hackathonBI/CCS\n",
    "\n",
    "Buatlah file ipynb untuk dapat melakukan data understanding berikut ini : \n",
    "\n",
    "1. Buatlah table list Top 5 Customers yang memiliki nilai transaksi paling banyak menggunakan dataframe pada python !\n",
    "2. Buatlah list Top 5 Gas stations yang memiliki nilai transaksi paling banyak menggunakan dataframe pada python!\n",
    "3. Buatlah list Top 5 Jenis produk yang memiliki nilai transaksi paling banyak menggunakan dataframe pada python!\n",
    "4. Buatlah deskripsi statistik untuk masing masing hari (23,24,25,26) pada dataset transaction_1k!\n",
    "5. Carilah waktu terbaik (hari dan jam) dimana paling banyak user gas station melakukan transaksi !\n",
    "6. Dari segi bisnis understanding, tujuan utama dari analisis data customer ini adalah?- Masukkan jawaban anda pada text di ipynb\n",
    "\n",
    "Filename pengumpulan : tugas-6-2-<id-peserta>.ipynb\n",
    "Pastikan filename yang dikumpulkan sesuai dengan format untuk mempermudah admin mengelola jawaban anda."
   ]
  },
  {
   "cell_type": "markdown",
   "id": "9fd4ccb2",
   "metadata": {},
   "source": [
    "# Jawaban Tugas 2\n",
    "\n",
    "Berikut adalah jawaban tugas 2:"
   ]
  },
  {
   "cell_type": "markdown",
   "id": "3fce2b53",
   "metadata": {},
   "source": [
    "<b>Buatlah table list Top 5 Customers yang memiliki nilai transaksi paling banyak menggunakan dataframe pada python !</b>"
   ]
  },
  {
   "cell_type": "code",
   "execution_count": 76,
   "id": "6846b24c",
   "metadata": {},
   "outputs": [
    {
     "name": "stdout",
     "output_type": "stream",
     "text": [
      "     TransactionID        Date      Time  CustomerID  CardID  GasStationID  \\\n",
      "0                1  2012-08-24  09:41:00       31543  486621          3704   \n",
      "1                2  2012-08-24  10:03:00       46707  550134          3704   \n",
      "2                3  2012-08-24  10:03:00       46707  550134          3704   \n",
      "3                4  2012-08-24  13:53:00        7654  684220           656   \n",
      "4                5  2012-08-24  08:49:00       17373  536109           741   \n",
      "..             ...         ...       ...         ...     ...           ...   \n",
      "995            996  2012-08-26  13:04:00       12021  692529          3750   \n",
      "996            997  2012-08-26  11:52:00       15618  602037           438   \n",
      "997            998  2012-08-26  12:31:00       47057  533108           438   \n",
      "998            999  2012-08-25  07:51:00       22994  602354          3899   \n",
      "999           1000  2012-08-25  12:45:00       25986  655214          3899   \n",
      "\n",
      "     ProductID  Amount   Price  \n",
      "0            2      28  672.64  \n",
      "1            2      18  430.72  \n",
      "2           23       1  121.99  \n",
      "3            5       5  120.74  \n",
      "4            2      28  645.05  \n",
      "..         ...     ...     ...  \n",
      "995          2      27  612.86  \n",
      "996          2      29  635.22  \n",
      "997          2      14  302.34  \n",
      "998          2      23  522.21  \n",
      "999          2      38  870.93  \n",
      "\n",
      "[1000 rows x 9 columns]\n",
      "              Price\n",
      "CustomerID         \n",
      "19182       8618.54\n",
      "16358       8400.94\n",
      "31543       6161.50\n",
      "12459       5974.47\n",
      "30895       5940.01\n"
     ]
    }
   ],
   "source": [
    "import pandas as pd\n",
    "\n",
    "path = 'dataset-data-understanding-tugas-2/transactions_1k.csv'\n",
    "\n",
    "data_transaksi = pd.read_csv(path)\n",
    "print(data_transaksi)\n",
    "print()\n",
    "\n",
    "group_transaction = data_transaksi.groupby('CustomerID')\n",
    "sum_group = pd.DataFrame(group_transaction['Price'].sum())\n",
    "\n",
    "print(sum_group.sort_values('Price', ascending = False).head())"
   ]
  },
  {
   "cell_type": "markdown",
   "id": "5ee3757d",
   "metadata": {},
   "source": [
    "<b>Buatlah list Top 5 Gas stations yang memiliki nilai transaksi paling banyak menggunakan dataframe pada python!</b>"
   ]
  },
  {
   "cell_type": "code",
   "execution_count": 77,
   "id": "61c792d2",
   "metadata": {},
   "outputs": [
    {
     "name": "stdout",
     "output_type": "stream",
     "text": [
      "     TransactionID        Date      Time  CustomerID  CardID  GasStationID  \\\n",
      "0                1  2012-08-24  09:41:00       31543  486621          3704   \n",
      "1                2  2012-08-24  10:03:00       46707  550134          3704   \n",
      "2                3  2012-08-24  10:03:00       46707  550134          3704   \n",
      "3                4  2012-08-24  13:53:00        7654  684220           656   \n",
      "4                5  2012-08-24  08:49:00       17373  536109           741   \n",
      "..             ...         ...       ...         ...     ...           ...   \n",
      "995            996  2012-08-26  13:04:00       12021  692529          3750   \n",
      "996            997  2012-08-26  11:52:00       15618  602037           438   \n",
      "997            998  2012-08-26  12:31:00       47057  533108           438   \n",
      "998            999  2012-08-25  07:51:00       22994  602354          3899   \n",
      "999           1000  2012-08-25  12:45:00       25986  655214          3899   \n",
      "\n",
      "     ProductID  Amount   Price  \n",
      "0            2      28  672.64  \n",
      "1            2      18  430.72  \n",
      "2           23       1  121.99  \n",
      "3            5       5  120.74  \n",
      "4            2      28  645.05  \n",
      "..         ...     ...     ...  \n",
      "995          2      27  612.86  \n",
      "996          2      29  635.22  \n",
      "997          2      14  302.34  \n",
      "998          2      23  522.21  \n",
      "999          2      38  870.93  \n",
      "\n",
      "[1000 rows x 9 columns]\n",
      "                Price\n",
      "GasStationID         \n",
      "4347          8557.94\n",
      "48            6868.67\n",
      "3250          6744.47\n",
      "1155          6701.69\n",
      "2417          6065.16\n"
     ]
    }
   ],
   "source": [
    "import pandas as pd\n",
    "\n",
    "path = 'dataset-data-understanding-tugas-2/transactions_1k.csv'\n",
    "\n",
    "data_transaksi = pd.read_csv(path)\n",
    "print(data_transaksi)\n",
    "print()\n",
    "\n",
    "group_transaction = data_transaksi.groupby('GasStationID')\n",
    "sum_group = pd.DataFrame(group_transaction['Price'].sum())\n",
    "\n",
    "print(sum_group.sort_values('Price', ascending = False).head())"
   ]
  },
  {
   "cell_type": "markdown",
   "id": "f16999dc",
   "metadata": {},
   "source": [
    "<b>Buatlah list Top 5 Jenis produk yang memiliki nilai transaksi paling banyak menggunakan dataframe pada python!</b>"
   ]
  },
  {
   "cell_type": "code",
   "execution_count": 113,
   "id": "2aa60fa9",
   "metadata": {},
   "outputs": [
    {
     "name": "stdout",
     "output_type": "stream",
     "text": [
      "     TransactionID        Date      Time  CustomerID  CardID  GasStationID  \\\n",
      "0                1  2012-08-24  09:41:00       31543  486621          3704   \n",
      "1                2  2012-08-24  10:03:00       46707  550134          3704   \n",
      "2                3  2012-08-24  10:03:00       46707  550134          3704   \n",
      "3                4  2012-08-24  13:53:00        7654  684220           656   \n",
      "4                5  2012-08-24  08:49:00       17373  536109           741   \n",
      "..             ...         ...       ...         ...     ...           ...   \n",
      "995            996  2012-08-26  13:04:00       12021  692529          3750   \n",
      "996            997  2012-08-26  11:52:00       15618  602037           438   \n",
      "997            998  2012-08-26  12:31:00       47057  533108           438   \n",
      "998            999  2012-08-25  07:51:00       22994  602354          3899   \n",
      "999           1000  2012-08-25  12:45:00       25986  655214          3899   \n",
      "\n",
      "     ProductID  Amount   Price  \n",
      "0            2      28  672.64  \n",
      "1            2      18  430.72  \n",
      "2           23       1  121.99  \n",
      "3            5       5  120.74  \n",
      "4            2      28  645.05  \n",
      "..         ...     ...     ...  \n",
      "995          2      27  612.86  \n",
      "996          2      29  635.22  \n",
      "997          2      14  302.34  \n",
      "998          2      23  522.21  \n",
      "999          2      38  870.93  \n",
      "\n",
      "[1000 rows x 9 columns]\n",
      "\n",
      "               Price\n",
      "ProductID           \n",
      "2          345669.45\n",
      "9           27261.03\n",
      "5           24639.46\n",
      "20           7233.72\n",
      "8            3999.92\n"
     ]
    }
   ],
   "source": [
    "import pandas as pd\n",
    "\n",
    "path = 'dataset-data-understanding-tugas-2/transactions_1k.csv'\n",
    "\n",
    "data_transaksi = pd.read_csv(path)\n",
    "print(data_transaksi)\n",
    "print()\n",
    "\n",
    "group_transaction = data_transaksi.groupby('ProductID')\n",
    "sum_group = pd.DataFrame(group_transaction['Price'].sum())\n",
    "\n",
    "print(sum_group.sort_values('Price', ascending = False).head())"
   ]
  },
  {
   "cell_type": "markdown",
   "id": "c49c5b7f",
   "metadata": {},
   "source": [
    "<b>Buatlah deskripsi statistik untuk masing masing hari (23,24,25,26) pada dataset transaction_1k!</b>"
   ]
  },
  {
   "cell_type": "code",
   "execution_count": 116,
   "id": "9468bc04",
   "metadata": {},
   "outputs": [
    {
     "name": "stdout",
     "output_type": "stream",
     "text": [
      "     TransactionID        Date      Time  CustomerID  CardID  GasStationID  \\\n",
      "0                1  2012-08-24  09:41:00       31543  486621          3704   \n",
      "1                2  2012-08-24  10:03:00       46707  550134          3704   \n",
      "2                3  2012-08-24  10:03:00       46707  550134          3704   \n",
      "3                4  2012-08-24  13:53:00        7654  684220           656   \n",
      "4                5  2012-08-24  08:49:00       17373  536109           741   \n",
      "..             ...         ...       ...         ...     ...           ...   \n",
      "995            996  2012-08-26  13:04:00       12021  692529          3750   \n",
      "996            997  2012-08-26  11:52:00       15618  602037           438   \n",
      "997            998  2012-08-26  12:31:00       47057  533108           438   \n",
      "998            999  2012-08-25  07:51:00       22994  602354          3899   \n",
      "999           1000  2012-08-25  12:45:00       25986  655214          3899   \n",
      "\n",
      "     ProductID  Amount   Price  \n",
      "0            2      28  672.64  \n",
      "1            2      18  430.72  \n",
      "2           23       1  121.99  \n",
      "3            5       5  120.74  \n",
      "4            2      28  645.05  \n",
      "..         ...     ...     ...  \n",
      "995          2      27  612.86  \n",
      "996          2      29  635.22  \n",
      "997          2      14  302.34  \n",
      "998          2      23  522.21  \n",
      "999          2      38  870.93  \n",
      "\n",
      "[1000 rows x 9 columns]\n",
      "\n",
      "           TransactionID                                                \\\n",
      "                   count        mean         std    min     25%    50%   \n",
      "Date                                                                     \n",
      "2012-08-23          10.0  164.500000  175.423456   26.0   38.75   79.0   \n",
      "2012-08-24         492.0  260.065041  158.448665    1.0  130.75  253.5   \n",
      "2012-08-25         425.0  708.637647  133.902758  441.0  598.00  709.0   \n",
      "2012-08-26          73.0  955.232877   26.181270  909.0  933.00  955.0   \n",
      "\n",
      "                           CustomerID                ... Amount         Price  \\\n",
      "               75%     max      count          mean  ...    75%    max  count   \n",
      "Date                                                 ...                        \n",
      "2012-08-23  337.00   417.0       10.0  32101.700000  ...  35.25   91.0   10.0   \n",
      "2012-08-24  376.25   772.0      492.0  20743.821138  ...  27.00  264.0  492.0   \n",
      "2012-08-25  821.00  1000.0      425.0  23111.555294  ...  26.00  154.0  425.0   \n",
      "2012-08-26  977.00   998.0       73.0  22274.054795  ...  29.00  101.0   73.0   \n",
      "\n",
      "                                                                              \n",
      "                  mean         std    min      25%     50%      75%      max  \n",
      "Date                                                                          \n",
      "2012-08-23  685.379000  534.046487  76.42  481.170  619.44  795.095  1994.71  \n",
      "2012-08-24  409.939736  488.269481   1.76   76.125  332.45  615.395  5762.49  \n",
      "2012-08-25  426.940071  453.134207   6.09  102.220  370.38  600.850  3600.84  \n",
      "2012-08-26  487.431370  429.192499   4.74  142.840  437.03  675.520  2303.75  \n",
      "\n",
      "[4 rows x 56 columns]\n"
     ]
    }
   ],
   "source": [
    "import pandas as pd\n",
    "\n",
    "path = 'dataset-data-understanding-tugas-2/transactions_1k.csv'\n",
    "\n",
    "data_transaksi = pd.read_csv(path)\n",
    "print(data_transaksi)\n",
    "print()\n",
    "\n",
    "group_tanggal = data_transaksi.groupby('Date')\n",
    "print(pd.DataFrame(group_tanggal.describe()))"
   ]
  },
  {
   "cell_type": "markdown",
   "id": "8e6510c5",
   "metadata": {},
   "source": [
    "<b>Carilah waktu terbaik (hari dan jam) dimana paling banyak user gas station melakukan transaksi !</b>"
   ]
  },
  {
   "cell_type": "code",
   "execution_count": 145,
   "id": "3603fcdd",
   "metadata": {},
   "outputs": [
    {
     "name": "stdout",
     "output_type": "stream",
     "text": [
      "     TransactionID        Date      Time  CustomerID  CardID  GasStationID  \\\n",
      "0                1  2012-08-24  09:41:00       31543  486621          3704   \n",
      "1                2  2012-08-24  10:03:00       46707  550134          3704   \n",
      "2                3  2012-08-24  10:03:00       46707  550134          3704   \n",
      "3                4  2012-08-24  13:53:00        7654  684220           656   \n",
      "4                5  2012-08-24  08:49:00       17373  536109           741   \n",
      "..             ...         ...       ...         ...     ...           ...   \n",
      "995            996  2012-08-26  13:04:00       12021  692529          3750   \n",
      "996            997  2012-08-26  11:52:00       15618  602037           438   \n",
      "997            998  2012-08-26  12:31:00       47057  533108           438   \n",
      "998            999  2012-08-25  07:51:00       22994  602354          3899   \n",
      "999           1000  2012-08-25  12:45:00       25986  655214          3899   \n",
      "\n",
      "     ProductID  Amount   Price  Jam  \n",
      "0            2      28  672.64    9  \n",
      "1            2      18  430.72   10  \n",
      "2           23       1  121.99   10  \n",
      "3            5       5  120.74   13  \n",
      "4            2      28  645.05    8  \n",
      "..         ...     ...     ...  ...  \n",
      "995          2      27  612.86   13  \n",
      "996          2      29  635.22   11  \n",
      "997          2      14  302.34   12  \n",
      "998          2      23  522.21    7  \n",
      "999          2      38  870.93   12  \n",
      "\n",
      "[1000 rows x 10 columns]\n",
      "\n",
      "                             TransactionID  Time  CustomerID  CardID  \\\n",
      "GasStationID Date       Jam                                            \n",
      "48           2012-08-24 9                3     3           3       3   \n",
      "64           2012-08-25 10               2     2           2       2   \n",
      "65           2012-08-25 3                1     1           1       1   \n",
      "                        11               1     1           1       1   \n",
      "89           2012-08-25 8                2     2           2       2   \n",
      "...                                    ...   ...         ...     ...   \n",
      "5432         2012-08-24 15               1     1           1       1   \n",
      "5466         2012-08-25 17               1     1           1       1   \n",
      "             2012-08-26 12               1     1           1       1   \n",
      "                        13               1     1           1       1   \n",
      "5481         2012-08-25 8                1     1           1       1   \n",
      "\n",
      "                             ProductID  Amount  Price  \n",
      "GasStationID Date       Jam                            \n",
      "48           2012-08-24 9            3       3      3  \n",
      "64           2012-08-25 10           2       2      2  \n",
      "65           2012-08-25 3            1       1      1  \n",
      "                        11           1       1      1  \n",
      "89           2012-08-25 8            2       2      2  \n",
      "...                                ...     ...    ...  \n",
      "5432         2012-08-24 15           1       1      1  \n",
      "5466         2012-08-25 17           1       1      1  \n",
      "             2012-08-26 12           1       1      1  \n",
      "                        13           1       1      1  \n",
      "5481         2012-08-25 8            1       1      1  \n",
      "\n",
      "[622 rows x 7 columns]\n"
     ]
    }
   ],
   "source": [
    "import pandas as pd\n",
    "\n",
    "path = 'dataset-data-understanding-tugas-2/transactions_1k.csv'\n",
    "\n",
    "data_transaksi = pd.read_csv(path)\n",
    "data_transaksi['Jam'] = pd.to_datetime(data_transaksi['Time'], format='%H:%M:%S').dt.hour\n",
    "print(data_transaksi)\n",
    "print()\n",
    "\n",
    "group_waktu_best = pd.DataFrame(data_transaksi.groupby(['GasStationID','Date',\"Jam\"]).count())\n",
    "print(group_waktu_best[group_waktu_best['TransactionID'] == group_waktu_best.groupby(level=[0])['TransactionID'].transform(max)])\n",
    "\n",
    "#df[df['data'] == df.groupby(level=[0])['data'].transform(max)]"
   ]
  },
  {
   "cell_type": "markdown",
   "id": "12c12d6c",
   "metadata": {},
   "source": [
    "<b>Dari segi bisnis understanding, tujuan utama dari analisis data customer ini adalah?- Masukkan jawaban anda pada text di ipynb</b>"
   ]
  },
  {
   "cell_type": "markdown",
   "id": "1eaaf6c5",
   "metadata": {},
   "source": [
    "Sebagai bentuk awal dari pemahaman data dan juga untuk mengetahui pola data awal sebagai bekal untuk tahap modeling nantinya. Sebagai contoh ketika akan melakukan data "
   ]
  }
 ],
 "metadata": {
  "kernelspec": {
   "display_name": "Python 3",
   "language": "python",
   "name": "python3"
  },
  "language_info": {
   "codemirror_mode": {
    "name": "ipython",
    "version": 3
   },
   "file_extension": ".py",
   "mimetype": "text/x-python",
   "name": "python",
   "nbconvert_exporter": "python",
   "pygments_lexer": "ipython3",
   "version": "3.8.10"
  }
 },
 "nbformat": 4,
 "nbformat_minor": 5
}
